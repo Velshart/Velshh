{
  "nbformat": 4,
  "nbformat_minor": 0,
  "metadata": {
    "colab": {
      "provenance": [],
      "authorship_tag": "ABX9TyP+tTBx9ufsv0ITG1S7klVV"
    },
    "kernelspec": {
      "name": "python3",
      "display_name": "Python 3"
    },
    "language_info": {
      "name": "python"
    }
  },
  "cells": [
    {
      "cell_type": "code",
      "execution_count": null,
      "metadata": {
        "colab": {
          "base_uri": "https://localhost:8080/"
        },
        "id": "5P7TaPW7JEcb",
        "outputId": "dc465339-73ca-42ec-e982-8bd06e1e4b11"
      },
      "outputs": [
        {
          "output_type": "stream",
          "name": "stdout",
          "text": [
            "Collecting PyCryptodome\n",
            "  Downloading pycryptodome-3.21.0-cp36-abi3-manylinux_2_17_x86_64.manylinux2014_x86_64.whl.metadata (3.4 kB)\n",
            "Downloading pycryptodome-3.21.0-cp36-abi3-manylinux_2_17_x86_64.manylinux2014_x86_64.whl (2.3 MB)\n",
            "\u001b[2K   \u001b[90m━━━━━━━━━━━━━━━━━━━━━━━━━━━━━━━━━━━━━━━━\u001b[0m \u001b[32m2.3/2.3 MB\u001b[0m \u001b[31m13.6 MB/s\u001b[0m eta \u001b[36m0:00:00\u001b[0m\n",
            "\u001b[?25hInstalling collected packages: PyCryptodome\n",
            "Successfully installed PyCryptodome-3.21.0\n"
          ]
        }
      ],
      "source": [
        "!pip install PyCryptodome"
      ]
    },
    {
      "cell_type": "code",
      "source": [
        "#1 Wykorzystuj¡c biblioteke PyCryptodome, napisz skrypt w jezyku Python, w którym wygenerujesz hash dowolnego\n",
        "#slowa za pomoca algorytmu SHA3\n",
        "\n",
        "from Crypto.Hash import SHA3_256\n",
        "\n",
        "word = b\"Hello\"\n",
        "\n",
        "hash_obj = SHA3_256.new(word)\n",
        "print(hash_obj.hexdigest())\n"
      ],
      "metadata": {
        "colab": {
          "base_uri": "https://localhost:8080/"
        },
        "id": "OT5soWUKJiBW",
        "outputId": "02d4c03a-ce27-4141-f5b6-c0f7b3e45a58"
      },
      "execution_count": null,
      "outputs": [
        {
          "output_type": "stream",
          "name": "stdout",
          "text": [
            "8ca66ee6b2fe4bb928a8e3cd2f508de4119c0895f22e011117e22cf9b13de7ef\n"
          ]
        }
      ]
    },
    {
      "cell_type": "code",
      "source": [
        "#2 Wykorzystujac biblioteke PyCryptodome, napisz skrypt w jezyku Python, w którym wygenerujesz hash dowolnego\n",
        "#slowa za pomoca wszystkich dostepnych w bibliotece algorytmów.\n",
        "\n",
        "from Crypto.Hash import SHA3_256, SHA1, MD5, SHA512\n",
        "\n",
        "word = b\"Hello\"\n",
        "\n",
        "algs = {\n",
        "    SHA3_256 : SHA3_256.new(word),\n",
        "    SHA1 : SHA1.new(word),\n",
        "    MD5 : MD5.new(word),\n",
        "    SHA512 : SHA512.new(word)\n",
        "}\n",
        "\n",
        "for algorithm, result in algs.items():\n",
        "  print(f\"{algorithm} hash: {result.hexdigest()}\")"
      ],
      "metadata": {
        "colab": {
          "base_uri": "https://localhost:8080/"
        },
        "id": "0OZWuwUdJ7RN",
        "outputId": "274f10a4-dd0d-4585-8d08-70db8a8e0f3a"
      },
      "execution_count": null,
      "outputs": [
        {
          "output_type": "stream",
          "name": "stdout",
          "text": [
            "<module 'Crypto.Hash.SHA3_256' from '/usr/local/lib/python3.10/dist-packages/Crypto/Hash/SHA3_256.py'> hash: a7ffc6f8bf1ed76651c14756a061d662f580ff4de43b49fa82d80a4b80f8434a\n",
            "<module 'Crypto.Hash.SHA1' from '/usr/local/lib/python3.10/dist-packages/Crypto/Hash/SHA1.py'> hash: da39a3ee5e6b4b0d3255bfef95601890afd80709\n",
            "<module 'Crypto.Hash.MD5' from '/usr/local/lib/python3.10/dist-packages/Crypto/Hash/MD5.py'> hash: d41d8cd98f00b204e9800998ecf8427e\n",
            "<module 'Crypto.Hash.SHA512' from '/usr/local/lib/python3.10/dist-packages/Crypto/Hash/SHA512.py'> hash: cf83e1357eefb8bdf1542850d66d8007d620e4050b5715dc83f4a921d36ce9ce47d0d13c5d85f2b0ff8318d2877eec2f63b931bd47417a81a538327af927da3e\n"
          ]
        }
      ]
    },
    {
      "cell_type": "code",
      "source": [
        "#3 Wykorzystuj¡c bibliotek¦ PyCryptodome, napisz skrypt w j¦zyku Python, który sprawdzi, za pomoc¡ jakiego\n",
        "#algorytmu zostaª wygenerowany hash 2cf24dba5fb0a30e26e83b2ac5b9e29e1b161e5c1fa7425e73043362938b9824\n",
        "#dla sªowa hello\n",
        "from Crypto.Hash import SHA3_256, SHA1, MD5, SHA512, SHA256\n",
        "\n",
        "hash = \"2cf24dba5fb0a30e26e83b2ac5b9e29e1b161e5c1fa7425e73043362938b9824\"\n",
        "word = b\"hello\"\n",
        "\n",
        "\n",
        "algs = {\n",
        "    SHA3_256 : SHA3_256.new(word),\n",
        "    SHA1 : SHA1.new(word),\n",
        "    MD5 : MD5.new(word),\n",
        "    SHA512 : SHA512.new(word),\n",
        "    SHA256 : SHA256.new(word)\n",
        "}\n",
        "\n",
        "for algorithm, result in algs.items():\n",
        "  if(result.hexdigest() == hash):\n",
        "    print(f\"{algorithm}\")\n",
        "  #print(f\"{algorithm} hash: {result.hexdigest()}\")\n"
      ],
      "metadata": {
        "colab": {
          "base_uri": "https://localhost:8080/"
        },
        "id": "L0cOMAmbLNg-",
        "outputId": "88114ddc-a252-46f8-a017-6a3e1f05f6e2"
      },
      "execution_count": null,
      "outputs": [
        {
          "output_type": "stream",
          "name": "stdout",
          "text": [
            "<module 'Crypto.Hash.SHA256' from '/usr/local/lib/python3.10/dist-packages/Crypto/Hash/SHA256.py'>\n"
          ]
        }
      ]
    },
    {
      "cell_type": "code",
      "source": [
        "#4 Wykorzystujac biblioteke PyCryptodome, napisz skrypt w jezyku Python, który wygeneruje hash SHA512 dla\n",
        "# dowolnego obrazka.\n",
        "\n",
        "from Crypto.Hash import SHA512\n",
        "\n",
        "fpath = \"./image.png\"\n",
        "\n",
        "with open(fpath, \"rb\") as file :\n",
        " imgdata = file.read()\n",
        "\n",
        "hashobj = SHA512.new(imgdata)\n",
        "\n",
        "print(hashobj.hexdigest())\n",
        "\n"
      ],
      "metadata": {
        "colab": {
          "base_uri": "https://localhost:8080/"
        },
        "id": "vRSowh7WMo9e",
        "outputId": "cbd3a1c2-41eb-4ba5-e257-e060a6bc0c96"
      },
      "execution_count": null,
      "outputs": [
        {
          "output_type": "stream",
          "name": "stdout",
          "text": [
            "61fcf6810152bd2c66d71569741d3a0dc669d60795566351a9efb89c18c723ac752e3ec68dc1c002d453b8390e8c4ede0aacaeed34485557b388406435dfd560\n"
          ]
        }
      ]
    },
    {
      "cell_type": "code",
      "source": [
        "#5"
      ],
      "metadata": {
        "id": "1Ez1eHMyNv8S"
      },
      "execution_count": null,
      "outputs": []
    },
    {
      "cell_type": "code",
      "source": [
        "#6 Wykorzystujac biblioteke PyCryptodome, napisz skrypt w jezyku Python, w którym zaszyfrujesz dowolne slowo\n",
        "# za pomoca algorytmu AES (z dowolna dlugoscia klucza) w trybie ECB.\n",
        "\n",
        "from Crypto.Cipher import AES\n",
        "import os\n",
        "\n",
        "from Crypto.Util.Padding import pad, unpad\n",
        "from base64 import b64encode, b64decode\n",
        "\n",
        "word = b\"hello\"\n",
        "padded_word = pad(word, AES.block_size)\n",
        "\n",
        "key = os.urandom(16) # 16 * 8 = 128\n",
        "cipher = AES.new(key, AES.MODE_ECB)\n",
        "\n",
        "\n",
        "encrypted_word = cipher.encrypt(padded_word)\n",
        "\n",
        "#print(encrypted_word.hex())\n",
        "\n",
        "b64_encoded = b64encode(encrypted_word)\n",
        "print(b64_encoded)"
      ],
      "metadata": {
        "colab": {
          "base_uri": "https://localhost:8080/"
        },
        "id": "ma2uFF8hOQZD",
        "outputId": "b212af77-00e7-43b8-f22e-c0bfb010e5b9"
      },
      "execution_count": null,
      "outputs": [
        {
          "output_type": "stream",
          "name": "stdout",
          "text": [
            "b'sxd8FoQXdRueYKW9NipOWg=='\n"
          ]
        }
      ]
    },
    {
      "cell_type": "code",
      "source": [
        "#7 Wykorzystuj¡c bibliotek¦ PyCryptodome, napisz skrypt w j¦zyku Python, w którym zaszyfrujesz dowolne sªowo\n",
        "#za pomoc¡ algorytmu Blowfish (z dowoln¡ dªugo±ci¡ klucza) w trybie CBC. Wynik zakoduj przy u»yciu kodowania\n",
        "#Base64\n",
        "\n",
        "from Crypto.Cipher import Blowfish\n",
        "import os\n",
        "\n",
        "from Crypto.Util.Padding import pad, unpad\n",
        "from base64 import b64encode, b64decode\n",
        "\n",
        "word = b\"Hello\"\n",
        "word_padded = pad(word, Blowfish.block_size)\n",
        "key = os.urandom(16)\n",
        "\n",
        "cipher = Blowfish.new(key, Blowfish.MODE_ECB)\n",
        "\n",
        "encrypted_padded_word = cipher.encrypt(word_padded)\n",
        "\n",
        "b64_encoded_encrypted_padded_word = b64encode(encrypted_padded_word)\n",
        "print(b64_encoded_encrypted_padded_word.hex())"
      ],
      "metadata": {
        "colab": {
          "base_uri": "https://localhost:8080/"
        },
        "id": "CnoZC2kwP_y9",
        "outputId": "8c636c46-22af-4921-bc0f-cd3cab3cd854"
      },
      "execution_count": null,
      "outputs": [
        {
          "output_type": "stream",
          "name": "stdout",
          "text": [
            "7854354e65766e447642453d\n"
          ]
        }
      ]
    },
    {
      "cell_type": "code",
      "source": [
        "#8 Wykorzystuj¡c bibliotek¦ PyCryptodome, napisz skrypt w j¦zyku Python, w którym zaszyfrujesz dowolny obrazek\n",
        "# za pomoc¡ algorytmu AES z kluczem 256 bitowym, w trybie CFB\n",
        "\n",
        "from Crypto.Cipher import AES\n",
        "import os\n",
        "\n",
        "from Crypto.Util.Padding import pad, unpad\n",
        "from base64 import b64encode, b64decode\n",
        "\n",
        "fpath = \"./image.png\"\n",
        "key = os.urandom(16);\n",
        "\n",
        "cipher = AES.new(key, AES.MODE_CFB)\n",
        "\n",
        "with open (fpath, \"rb\") as file :\n",
        " imgdata = file.read()\n",
        "\n",
        " encrypted_imgdata = cipher.encrypt(imgdata)\n",
        "\n",
        " with open (\"encrypted_image.png\", \"wb\") as file :\n",
        "  file.write(encrypted_imgdata)\n",
        "\n",
        "# odszyfrowywanie obrazka\n",
        "\n",
        "#iv = b\"\\x00\" * 16\n",
        "#decipher = AES.new(key, AES.MODE_CFB, iv)\n",
        "\n",
        "#with open (\"encrypted_image.png\", \"rb\") as file :\n",
        " #encrypted_imgdata = file.read()\n",
        "\n",
        " #decrypted_imgdata = decipher.decrypt(encrypted_imgdata)\n",
        "\n",
        " #with open (\"decrypted_image.png\", \"wb\") as file :\n",
        "  #file.write(decrypted_imgdata)\n",
        "\n"
      ],
      "metadata": {
        "id": "Ki4r5qBibN64"
      },
      "execution_count": null,
      "outputs": []
    },
    {
      "cell_type": "code",
      "source": [
        "#9 Wykorzystuj¡c bibliotek¦ PyCryptodome, napisz skrypt w j¦zyku Python, w którym odszyfrujesz i zapiszesz na\n",
        "# dysku obrazek zakodowany Base64 i zaszyfrowany przy pomocy algorytmu 3DES. Klucz szyfruj¡cy znajduje si¦ w\n",
        "# pliku key69.bin, obrazek w pliku img69.b64, a wektor inicjalizacyjny składa się z samych 0\n",
        "\n",
        "iv = b\"\\x00\" * 8\n",
        "\n",
        "from Crypto.Cipher import DES3\n",
        "\n",
        "with open (\"img69.b64\", \"r\") as ifile :\n",
        "  imgdata = ifile.read();\n",
        "\n",
        "with open (\"key69.bin\", \"rb\") as kfile :\n",
        "  keydata = kfile.read();\n",
        "\n",
        "b64_decoded = b64decode(imgdata)\n",
        "\n",
        "decipher = DES3.new(key, DES3.MODE_CBC, iv)\n",
        "decrypted = decipher.decrypt(b64_decoded)\n",
        "\n",
        "with open (\"solved.png\", \"wb\") as sfile :\n",
        "  sfile.write(decrypted)"
      ],
      "metadata": {
        "id": "8WvS6VlldeX5"
      },
      "execution_count": null,
      "outputs": []
    },
    {
      "cell_type": "code",
      "source": [
        "#10"
      ],
      "metadata": {
        "id": "KOULKD66iGfN"
      },
      "execution_count": null,
      "outputs": []
    },
    {
      "cell_type": "code",
      "source": [
        "#11 | szyfrowanie asymetryczne\n",
        "# Wykorzystując bibliotekę PyCryptodome, napisz skrypt w języku Python, w którym wygenerujesz klucz publiczny\n",
        "# i prywatny za pomocą algorytmu RSA, a następnie zaszyfrujesz i odszyfrujesz nimi dowolną wiadomość\n",
        "\n",
        "from Crypto.PublicKey import RSA\n",
        "\n",
        "from Crypto.Cipher import PKCS1_OAEP\n",
        "\n",
        "key = RSA.generate(2048)\n",
        "\n",
        "private_key = key.export_key()\n",
        "public_key = key.publickey().export_key()\n",
        "\n",
        "message = b\"Hello\"\n",
        "\n",
        "public_key_object = RSA.import_key(public_key)\n",
        "cipher = PKCS1_OAEP.new(public_key_object)\n",
        "\n",
        "message_encrypted = cipher.encrypt(message)\n",
        "\n",
        "#deszyfrowanie\n",
        "private_key_object = RSA.import_key(private_key)\n",
        "decipher = PKCS1_OAEP.new(private_key_object)\n",
        "\n",
        "message_decrypted = decipher.decrypt(message_encrypted)\n",
        "\n",
        "print(message_decrypted)\n",
        "\n"
      ],
      "metadata": {
        "colab": {
          "base_uri": "https://localhost:8080/"
        },
        "id": "x7yvObloiIpG",
        "outputId": "6d4d8679-bfb6-47ee-ffb3-c839a0f1574f"
      },
      "execution_count": null,
      "outputs": [
        {
          "output_type": "stream",
          "name": "stdout",
          "text": [
            "b'Hello'\n"
          ]
        }
      ]
    },
    {
      "cell_type": "code",
      "source": [
        "#12 Wykorzystuj¡c bibliotek¦ PyCryptodome, napisz skrypt w j¦zyku Python, w którym wygenerujesz klucz publiczny\n",
        "# i prywatny za pomoc¡ algorytmu RSA, a nast¦pnie zaszyfrujesz i odszyfrujesz nimi dowoln¡ wiadomo±¢. Po\n",
        "# zaszyfrowaniu zakoduj dodatkowo wiadomo±¢ przy pomocy kodowania Base64\n",
        "\n",
        "from Crypto.PublicKey import RSA\n",
        "\n",
        "from Crypto.Cipher import PKCS1_OAEP\n",
        "\n",
        "from base64 import b64encode, b64decode\n",
        "\n",
        "key = RSA.generate(2048)\n",
        "\n",
        "private_key = key.exportKey();\n",
        "public_key = key.publickey().exportKey()\n",
        "\n",
        "message = b\"Hejka\"\n",
        "\n",
        "private_key_object = RSA.importKey(private_key)\n",
        "public_key_object = RSA.importKey(public_key)\n",
        "\n",
        "cipher = PKCS1_OAEP.new(public_key_object)\n",
        "\n",
        "encrypted_message = cipher.encrypt(message)\n",
        "encrypted_message_b64 = b64encode(encrypted_message)\n",
        "\n",
        " # odszyfrowanie\n",
        "\n",
        "encrypted_message_b64_decoded = b64decode(encrypted_message_b64)\n",
        "\n",
        "decipher = PKCS1_OAEP.new(private_key_object)\n",
        "decrypted_message = decipher.decrypt(encrypted_message_b64_decoded)\n",
        "\n",
        "print(decrypted_message)\n"
      ],
      "metadata": {
        "colab": {
          "base_uri": "https://localhost:8080/"
        },
        "id": "i80cCFQIk5NH",
        "outputId": "4f00147c-88f0-461a-94a4-68144ed77fac"
      },
      "execution_count": null,
      "outputs": [
        {
          "output_type": "stream",
          "name": "stdout",
          "text": [
            "b'Hejka'\n"
          ]
        }
      ]
    },
    {
      "cell_type": "code",
      "source": [
        "# 13\n",
        "# Wykorzystuj¡c bibliotek¦ PyCryptodome, napisz skrypt w j¦zyku Python, w którym wygenerujesz klucz publiczny\n",
        "# i prywatny za pomoc¡ algorytmu RSA, a nast¦pnie zaszyfrujesz i odszyfrujesz nimi dowolny obrazek.\n",
        "\n",
        "from Crypto.PublicKey import RSA\n",
        "\n",
        "from Crypto.Cipher import PKCS1_OAEP\n",
        "\n",
        "key = RSA.generate(2048)\n",
        "\n",
        "public_key = key.exportKey()\n",
        "private_key = key.publickey().exportKey()\n",
        "\n",
        "public_key_object = RSA.importKey(public_key)\n",
        "private_key_object = RSA.importKey(private_key)\n",
        "\n",
        "with open (\"image.png\", \"rb\") as file :\n",
        "  imgdata = file.read()\n",
        "\n",
        "cipher = PKCS1_OAEP.new(public_key_object)\n",
        "encrypted_imgdata = cipher.encrypt(imgdata)\n",
        "\n",
        "with open (\"encrypted_image.png\", \"wb\") as file :\n",
        "  file.write(encrypted_imgdata)\n",
        "\n",
        "# odszyfrowanie\n",
        "\n",
        "with open (\"encrypted_image.png\", \"rb\") as file :\n",
        "  encrypted_imagedata = file.read()\n",
        "\n",
        "decipher = PKCS1_OAEP.new(private_key_object)\n",
        "decrypted_imagedata = decipher.decrypt(encrypted_imagedata)\n",
        "\n",
        "with open (\"decrypted_image.png\", \"wb\") as file :\n",
        "  file.write(decrypted_imagedata)\n"
      ],
      "metadata": {
        "colab": {
          "base_uri": "https://localhost:8080/",
          "height": 332
        },
        "collapsed": true,
        "id": "l-GOgbWeoZMn",
        "outputId": "6029a2b8-22bf-4db6-f8d8-9f246dd1ba30"
      },
      "execution_count": null,
      "outputs": [
        {
          "output_type": "error",
          "ename": "ValueError",
          "evalue": "Plaintext is too long.",
          "traceback": [
            "\u001b[0;31m---------------------------------------------------------------------------\u001b[0m",
            "\u001b[0;31mValueError\u001b[0m                                Traceback (most recent call last)",
            "\u001b[0;32m<ipython-input-32-af3726c71b00>\u001b[0m in \u001b[0;36m<cell line: 20>\u001b[0;34m()\u001b[0m\n\u001b[1;32m     18\u001b[0m \u001b[0;34m\u001b[0m\u001b[0m\n\u001b[1;32m     19\u001b[0m \u001b[0mcipher\u001b[0m \u001b[0;34m=\u001b[0m \u001b[0mPKCS1_OAEP\u001b[0m\u001b[0;34m.\u001b[0m\u001b[0mnew\u001b[0m\u001b[0;34m(\u001b[0m\u001b[0mpublic_key_object\u001b[0m\u001b[0;34m)\u001b[0m\u001b[0;34m\u001b[0m\u001b[0;34m\u001b[0m\u001b[0m\n\u001b[0;32m---> 20\u001b[0;31m \u001b[0mencrypted_imgdata\u001b[0m \u001b[0;34m=\u001b[0m \u001b[0mcipher\u001b[0m\u001b[0;34m.\u001b[0m\u001b[0mencrypt\u001b[0m\u001b[0;34m(\u001b[0m\u001b[0mimgdata\u001b[0m\u001b[0;34m)\u001b[0m\u001b[0;34m\u001b[0m\u001b[0;34m\u001b[0m\u001b[0m\n\u001b[0m\u001b[1;32m     21\u001b[0m \u001b[0;34m\u001b[0m\u001b[0m\n\u001b[1;32m     22\u001b[0m \u001b[0;32mwith\u001b[0m \u001b[0mopen\u001b[0m \u001b[0;34m(\u001b[0m\u001b[0;34m\"encrypted_image.png\"\u001b[0m\u001b[0;34m,\u001b[0m \u001b[0;34m\"wb\"\u001b[0m\u001b[0;34m)\u001b[0m \u001b[0;32mas\u001b[0m \u001b[0mfile\u001b[0m \u001b[0;34m:\u001b[0m\u001b[0;34m\u001b[0m\u001b[0;34m\u001b[0m\u001b[0m\n",
            "\u001b[0;32m/usr/local/lib/python3.10/dist-packages/Crypto/Cipher/PKCS1_OAEP.py\u001b[0m in \u001b[0;36mencrypt\u001b[0;34m(self, message)\u001b[0m\n\u001b[1;32m    115\u001b[0m         \u001b[0mps_len\u001b[0m \u001b[0;34m=\u001b[0m \u001b[0mk\u001b[0m \u001b[0;34m-\u001b[0m \u001b[0mmLen\u001b[0m \u001b[0;34m-\u001b[0m \u001b[0;36m2\u001b[0m \u001b[0;34m*\u001b[0m \u001b[0mhLen\u001b[0m \u001b[0;34m-\u001b[0m \u001b[0;36m2\u001b[0m\u001b[0;34m\u001b[0m\u001b[0;34m\u001b[0m\u001b[0m\n\u001b[1;32m    116\u001b[0m         \u001b[0;32mif\u001b[0m \u001b[0mps_len\u001b[0m \u001b[0;34m<\u001b[0m \u001b[0;36m0\u001b[0m\u001b[0;34m:\u001b[0m\u001b[0;34m\u001b[0m\u001b[0;34m\u001b[0m\u001b[0m\n\u001b[0;32m--> 117\u001b[0;31m             \u001b[0;32mraise\u001b[0m \u001b[0mValueError\u001b[0m\u001b[0;34m(\u001b[0m\u001b[0;34m\"Plaintext is too long.\"\u001b[0m\u001b[0;34m)\u001b[0m\u001b[0;34m\u001b[0m\u001b[0;34m\u001b[0m\u001b[0m\n\u001b[0m\u001b[1;32m    118\u001b[0m         \u001b[0;31m# Step 2a\u001b[0m\u001b[0;34m\u001b[0m\u001b[0;34m\u001b[0m\u001b[0m\n\u001b[1;32m    119\u001b[0m         \u001b[0mlHash\u001b[0m \u001b[0;34m=\u001b[0m \u001b[0mself\u001b[0m\u001b[0;34m.\u001b[0m\u001b[0m_hashObj\u001b[0m\u001b[0;34m.\u001b[0m\u001b[0mnew\u001b[0m\u001b[0;34m(\u001b[0m\u001b[0mself\u001b[0m\u001b[0;34m.\u001b[0m\u001b[0m_label\u001b[0m\u001b[0;34m)\u001b[0m\u001b[0;34m.\u001b[0m\u001b[0mdigest\u001b[0m\u001b[0;34m(\u001b[0m\u001b[0;34m)\u001b[0m\u001b[0;34m\u001b[0m\u001b[0;34m\u001b[0m\u001b[0m\n",
            "\u001b[0;31mValueError\u001b[0m: Plaintext is too long."
          ]
        }
      ]
    },
    {
      "cell_type": "code",
      "source": [
        "# 14\n",
        "#Wykorzystuj¡c bibliotek¦ PyCryptodome, napisz skrypt w j¦zyku Python, w którym wygenerujesz klucz publiczny\n",
        "#i prywatny za pomoc¡ algorytmu RSA, a nast¦pnie przy ich u»yciu podpiszesz dowoln¡ wiadomo±¢ i zweryfikujesz\n",
        "#podpis\n",
        "\n",
        "from Crypto.PublicKey import RSA\n",
        "from Crypto.Cipher import PKCS1_OAEP\n",
        "from Crypto.Signature import PKCS1_v1_5 as pkcs\n",
        "from Crypto.Hash import SHA256\n",
        "\n",
        "msg = b\"Hejka\"\n",
        "\n",
        "hashed_msg = SHA256.new(msg)\n",
        "\n",
        "key = RSA.generate(2048)\n",
        "private_key = key.exportKey()\n",
        "public_key = key.publickey().exportKey()\n",
        "\n",
        "public_key_object = RSA.importKey(public_key)\n",
        "private_key_object = RSA.importKey(private_key)\n",
        "\n",
        "signer = pkcs.new(private_key_object)\n",
        "signed_message = signer.sign(hashed_msg)\n",
        "\n",
        "verifier = pkcs.new(public_key_object)\n",
        "verified_message = verifier.verify(hashed_msg, signed_message)\n",
        "\n",
        "print(verified_message)\n",
        "\n"
      ],
      "metadata": {
        "colab": {
          "base_uri": "https://localhost:8080/"
        },
        "id": "3k-2F5bvs1QX",
        "outputId": "12674670-86fa-468a-c6b1-dc90eab50bf3"
      },
      "execution_count": null,
      "outputs": [
        {
          "output_type": "stream",
          "name": "stdout",
          "text": [
            "True\n"
          ]
        }
      ]
    },
    {
      "cell_type": "code",
      "source": [
        "# 15\n",
        "# Wykorzystuj¡c bibliotek¦ PyCryptodome, napisz skrypt w j¦zyku Python, w którym wygenerujesz klucz publiczny\n",
        "#i prywatny za pomoc¡ algorytmu DSA, a nast¦pnie przy ich u»yciu podpiszesz dowoln¡ wiadomo±¢ i zweryfikujesz\n",
        "# podpis.\n",
        "\n",
        "from Crypto.PublicKey import DSA\n",
        "from Crypto.Signature import DSS\n",
        "from Crypto.Hash import SHA256\n",
        "\n",
        "key = DSA.generate(2048)\n",
        "private_key = key.exportKey()\n",
        "public_key = key.publickey().exportKey()\n",
        "\n",
        "private_key_object = DSA.importKey(private_key)\n",
        "public_key_object = DSA.importKey(public_key)\n",
        "\n",
        "msg = b\"Hejka\"\n",
        "\n",
        "hashed_message = SHA256.new(msg)\n",
        "\n",
        "signer = DSS.new(private_key_object, 'fips-186-3')\n",
        "signed_message = signer.sign(hashed_message)\n",
        "\n",
        "verifier = DSS.new(public_key_object, 'fips-186-3')\n",
        "\n",
        "try:\n",
        "    verifier.verify(hashed_message, signed_message)\n",
        "    print(\"The message is authentic.\")\n",
        "except ValueError:\n",
        "    print(\"The message is not authentic.\")"
      ],
      "metadata": {
        "colab": {
          "base_uri": "https://localhost:8080/"
        },
        "id": "ek3wV3NFxtAj",
        "outputId": "d61cb786-b226-4c37-d1d7-f9151998d177"
      },
      "execution_count": null,
      "outputs": [
        {
          "output_type": "stream",
          "name": "stdout",
          "text": [
            "The message is authentic.\n"
          ]
        }
      ]
    }
  ]
}